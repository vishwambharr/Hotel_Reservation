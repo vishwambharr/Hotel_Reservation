{
 "cells": [
  {
   "cell_type": "markdown",
   "id": "14a180f2",
   "metadata": {},
   "source": [
    "## TO FIND NO. OF VISITORS ARE CANCELLED \n",
    "## THE HOTEL  BOOKING BASED ON CLASSIFICATION APPROACH"
   ]
  },
  {
   "cell_type": "markdown",
   "id": "b2948d22",
   "metadata": {},
   "source": [
    "## Import Libraries"
   ]
  },
  {
   "cell_type": "code",
   "execution_count": 1,
   "id": "07336eae",
   "metadata": {},
   "outputs": [],
   "source": [
    "import pandas as pd\n",
    "import matplotlib.pyplot as plt\n",
    "import seaborn as sns\n",
    "import warnings\n",
    "warnings.filterwarnings('ignore')"
   ]
  },
  {
   "cell_type": "markdown",
   "id": "3bebebeb",
   "metadata": {},
   "source": [
    "## Loading the Dataset"
   ]
  },
  {
   "cell_type": "code",
   "execution_count": 2,
   "id": "2db10d23",
   "metadata": {},
   "outputs": [],
   "source": [
    "df = pd.read_csv('hotel booking.csv')"
   ]
  },
  {
   "cell_type": "markdown",
   "id": "395179b9",
   "metadata": {},
   "source": [
    "##  Exploratory Data Analysis and Data Cleaning"
   ]
  },
  {
   "cell_type": "code",
   "execution_count": 3,
   "id": "4fef7ce4",
   "metadata": {},
   "outputs": [
    {
     "data": {
      "text/html": [
       "<div>\n",
       "<style scoped>\n",
       "    .dataframe tbody tr th:only-of-type {\n",
       "        vertical-align: middle;\n",
       "    }\n",
       "\n",
       "    .dataframe tbody tr th {\n",
       "        vertical-align: top;\n",
       "    }\n",
       "\n",
       "    .dataframe thead th {\n",
       "        text-align: right;\n",
       "    }\n",
       "</style>\n",
       "<table border=\"1\" class=\"dataframe\">\n",
       "  <thead>\n",
       "    <tr style=\"text-align: right;\">\n",
       "      <th></th>\n",
       "      <th>hotel</th>\n",
       "      <th>is_canceled</th>\n",
       "      <th>lead_time</th>\n",
       "      <th>arrival_date_year</th>\n",
       "      <th>arrival_date_month</th>\n",
       "      <th>arrival_date_week_number</th>\n",
       "      <th>arrival_date_day_of_month</th>\n",
       "      <th>stays_in_weekend_nights</th>\n",
       "      <th>stays_in_week_nights</th>\n",
       "      <th>adults</th>\n",
       "      <th>...</th>\n",
       "      <th>customer_type</th>\n",
       "      <th>adr</th>\n",
       "      <th>required_car_parking_spaces</th>\n",
       "      <th>total_of_special_requests</th>\n",
       "      <th>reservation_status</th>\n",
       "      <th>reservation_status_date</th>\n",
       "      <th>name</th>\n",
       "      <th>email</th>\n",
       "      <th>phone-number</th>\n",
       "      <th>credit_card</th>\n",
       "    </tr>\n",
       "  </thead>\n",
       "  <tbody>\n",
       "    <tr>\n",
       "      <th>0</th>\n",
       "      <td>Resort Hotel</td>\n",
       "      <td>0</td>\n",
       "      <td>342</td>\n",
       "      <td>2015</td>\n",
       "      <td>July</td>\n",
       "      <td>27</td>\n",
       "      <td>1</td>\n",
       "      <td>0</td>\n",
       "      <td>0</td>\n",
       "      <td>2</td>\n",
       "      <td>...</td>\n",
       "      <td>Transient</td>\n",
       "      <td>0.0</td>\n",
       "      <td>0</td>\n",
       "      <td>0</td>\n",
       "      <td>Check-Out</td>\n",
       "      <td>2015-07-01</td>\n",
       "      <td>Ernest Barnes</td>\n",
       "      <td>Ernest.Barnes31@outlook.com</td>\n",
       "      <td>669-792-1661</td>\n",
       "      <td>************4322</td>\n",
       "    </tr>\n",
       "    <tr>\n",
       "      <th>1</th>\n",
       "      <td>Resort Hotel</td>\n",
       "      <td>0</td>\n",
       "      <td>737</td>\n",
       "      <td>2015</td>\n",
       "      <td>July</td>\n",
       "      <td>27</td>\n",
       "      <td>1</td>\n",
       "      <td>0</td>\n",
       "      <td>0</td>\n",
       "      <td>2</td>\n",
       "      <td>...</td>\n",
       "      <td>Transient</td>\n",
       "      <td>0.0</td>\n",
       "      <td>0</td>\n",
       "      <td>0</td>\n",
       "      <td>Check-Out</td>\n",
       "      <td>2015-07-01</td>\n",
       "      <td>Andrea Baker</td>\n",
       "      <td>Andrea_Baker94@aol.com</td>\n",
       "      <td>858-637-6955</td>\n",
       "      <td>************9157</td>\n",
       "    </tr>\n",
       "    <tr>\n",
       "      <th>2</th>\n",
       "      <td>Resort Hotel</td>\n",
       "      <td>0</td>\n",
       "      <td>7</td>\n",
       "      <td>2015</td>\n",
       "      <td>July</td>\n",
       "      <td>27</td>\n",
       "      <td>1</td>\n",
       "      <td>0</td>\n",
       "      <td>1</td>\n",
       "      <td>1</td>\n",
       "      <td>...</td>\n",
       "      <td>Transient</td>\n",
       "      <td>75.0</td>\n",
       "      <td>0</td>\n",
       "      <td>0</td>\n",
       "      <td>Check-Out</td>\n",
       "      <td>2015-07-02</td>\n",
       "      <td>Rebecca Parker</td>\n",
       "      <td>Rebecca_Parker@comcast.net</td>\n",
       "      <td>652-885-2745</td>\n",
       "      <td>************3734</td>\n",
       "    </tr>\n",
       "    <tr>\n",
       "      <th>3</th>\n",
       "      <td>Resort Hotel</td>\n",
       "      <td>0</td>\n",
       "      <td>13</td>\n",
       "      <td>2015</td>\n",
       "      <td>July</td>\n",
       "      <td>27</td>\n",
       "      <td>1</td>\n",
       "      <td>0</td>\n",
       "      <td>1</td>\n",
       "      <td>1</td>\n",
       "      <td>...</td>\n",
       "      <td>Transient</td>\n",
       "      <td>75.0</td>\n",
       "      <td>0</td>\n",
       "      <td>0</td>\n",
       "      <td>Check-Out</td>\n",
       "      <td>2015-07-02</td>\n",
       "      <td>Laura Murray</td>\n",
       "      <td>Laura_M@gmail.com</td>\n",
       "      <td>364-656-8427</td>\n",
       "      <td>************5677</td>\n",
       "    </tr>\n",
       "    <tr>\n",
       "      <th>4</th>\n",
       "      <td>Resort Hotel</td>\n",
       "      <td>0</td>\n",
       "      <td>14</td>\n",
       "      <td>2015</td>\n",
       "      <td>July</td>\n",
       "      <td>27</td>\n",
       "      <td>1</td>\n",
       "      <td>0</td>\n",
       "      <td>2</td>\n",
       "      <td>2</td>\n",
       "      <td>...</td>\n",
       "      <td>Transient</td>\n",
       "      <td>98.0</td>\n",
       "      <td>0</td>\n",
       "      <td>1</td>\n",
       "      <td>Check-Out</td>\n",
       "      <td>2015-07-03</td>\n",
       "      <td>Linda Hines</td>\n",
       "      <td>LHines@verizon.com</td>\n",
       "      <td>713-226-5883</td>\n",
       "      <td>************5498</td>\n",
       "    </tr>\n",
       "  </tbody>\n",
       "</table>\n",
       "<p>5 rows × 36 columns</p>\n",
       "</div>"
      ],
      "text/plain": [
       "          hotel  is_canceled  lead_time  arrival_date_year arrival_date_month  \\\n",
       "0  Resort Hotel            0        342               2015               July   \n",
       "1  Resort Hotel            0        737               2015               July   \n",
       "2  Resort Hotel            0          7               2015               July   \n",
       "3  Resort Hotel            0         13               2015               July   \n",
       "4  Resort Hotel            0         14               2015               July   \n",
       "\n",
       "   arrival_date_week_number  arrival_date_day_of_month  \\\n",
       "0                        27                          1   \n",
       "1                        27                          1   \n",
       "2                        27                          1   \n",
       "3                        27                          1   \n",
       "4                        27                          1   \n",
       "\n",
       "   stays_in_weekend_nights  stays_in_week_nights  adults  ...  customer_type  \\\n",
       "0                        0                     0       2  ...      Transient   \n",
       "1                        0                     0       2  ...      Transient   \n",
       "2                        0                     1       1  ...      Transient   \n",
       "3                        0                     1       1  ...      Transient   \n",
       "4                        0                     2       2  ...      Transient   \n",
       "\n",
       "    adr required_car_parking_spaces total_of_special_requests  \\\n",
       "0   0.0                           0                         0   \n",
       "1   0.0                           0                         0   \n",
       "2  75.0                           0                         0   \n",
       "3  75.0                           0                         0   \n",
       "4  98.0                           0                         1   \n",
       "\n",
       "  reservation_status reservation_status_date            name  \\\n",
       "0          Check-Out              2015-07-01   Ernest Barnes   \n",
       "1          Check-Out              2015-07-01    Andrea Baker   \n",
       "2          Check-Out              2015-07-02  Rebecca Parker   \n",
       "3          Check-Out              2015-07-02    Laura Murray   \n",
       "4          Check-Out              2015-07-03     Linda Hines   \n",
       "\n",
       "                         email  phone-number       credit_card  \n",
       "0  Ernest.Barnes31@outlook.com  669-792-1661  ************4322  \n",
       "1       Andrea_Baker94@aol.com  858-637-6955  ************9157  \n",
       "2   Rebecca_Parker@comcast.net  652-885-2745  ************3734  \n",
       "3            Laura_M@gmail.com  364-656-8427  ************5677  \n",
       "4           LHines@verizon.com  713-226-5883  ************5498  \n",
       "\n",
       "[5 rows x 36 columns]"
      ]
     },
     "execution_count": 3,
     "metadata": {},
     "output_type": "execute_result"
    }
   ],
   "source": [
    "df.head()"
   ]
  },
  {
   "cell_type": "code",
   "execution_count": 4,
   "id": "2cf907d0",
   "metadata": {},
   "outputs": [],
   "source": [
    "# To find number of rows and columns"
   ]
  },
  {
   "cell_type": "code",
   "execution_count": 5,
   "id": "b455e173",
   "metadata": {},
   "outputs": [
    {
     "data": {
      "text/plain": [
       "(119390, 36)"
      ]
     },
     "execution_count": 5,
     "metadata": {},
     "output_type": "execute_result"
    }
   ],
   "source": [
    "df.shape"
   ]
  },
  {
   "cell_type": "code",
   "execution_count": 6,
   "id": "5323cb4e",
   "metadata": {},
   "outputs": [
    {
     "data": {
      "text/plain": [
       "Index(['hotel', 'is_canceled', 'lead_time', 'arrival_date_year',\n",
       "       'arrival_date_month', 'arrival_date_week_number',\n",
       "       'arrival_date_day_of_month', 'stays_in_weekend_nights',\n",
       "       'stays_in_week_nights', 'adults', 'children', 'babies', 'meal',\n",
       "       'country', 'market_segment', 'distribution_channel',\n",
       "       'is_repeated_guest', 'previous_cancellations',\n",
       "       'previous_bookings_not_canceled', 'reserved_room_type',\n",
       "       'assigned_room_type', 'booking_changes', 'deposit_type', 'agent',\n",
       "       'company', 'days_in_waiting_list', 'customer_type', 'adr',\n",
       "       'required_car_parking_spaces', 'total_of_special_requests',\n",
       "       'reservation_status', 'reservation_status_date', 'name', 'email',\n",
       "       'phone-number', 'credit_card'],\n",
       "      dtype='object')"
      ]
     },
     "execution_count": 6,
     "metadata": {},
     "output_type": "execute_result"
    }
   ],
   "source": [
    "df.columns"
   ]
  },
  {
   "cell_type": "code",
   "execution_count": 7,
   "id": "809a88c9",
   "metadata": {},
   "outputs": [
    {
     "name": "stdout",
     "output_type": "stream",
     "text": [
      "<class 'pandas.core.frame.DataFrame'>\n",
      "RangeIndex: 119390 entries, 0 to 119389\n",
      "Data columns (total 36 columns):\n",
      " #   Column                          Non-Null Count   Dtype  \n",
      "---  ------                          --------------   -----  \n",
      " 0   hotel                           119390 non-null  object \n",
      " 1   is_canceled                     119390 non-null  int64  \n",
      " 2   lead_time                       119390 non-null  int64  \n",
      " 3   arrival_date_year               119390 non-null  int64  \n",
      " 4   arrival_date_month              119390 non-null  object \n",
      " 5   arrival_date_week_number        119390 non-null  int64  \n",
      " 6   arrival_date_day_of_month       119390 non-null  int64  \n",
      " 7   stays_in_weekend_nights         119390 non-null  int64  \n",
      " 8   stays_in_week_nights            119390 non-null  int64  \n",
      " 9   adults                          119390 non-null  int64  \n",
      " 10  children                        119386 non-null  float64\n",
      " 11  babies                          119390 non-null  int64  \n",
      " 12  meal                            119390 non-null  object \n",
      " 13  country                         118902 non-null  object \n",
      " 14  market_segment                  119390 non-null  object \n",
      " 15  distribution_channel            119390 non-null  object \n",
      " 16  is_repeated_guest               119390 non-null  int64  \n",
      " 17  previous_cancellations          119390 non-null  int64  \n",
      " 18  previous_bookings_not_canceled  119390 non-null  int64  \n",
      " 19  reserved_room_type              119390 non-null  object \n",
      " 20  assigned_room_type              119390 non-null  object \n",
      " 21  booking_changes                 119390 non-null  int64  \n",
      " 22  deposit_type                    119390 non-null  object \n",
      " 23  agent                           103050 non-null  float64\n",
      " 24  company                         6797 non-null    float64\n",
      " 25  days_in_waiting_list            119390 non-null  int64  \n",
      " 26  customer_type                   119390 non-null  object \n",
      " 27  adr                             119390 non-null  float64\n",
      " 28  required_car_parking_spaces     119390 non-null  int64  \n",
      " 29  total_of_special_requests       119390 non-null  int64  \n",
      " 30  reservation_status              119390 non-null  object \n",
      " 31  reservation_status_date         119390 non-null  object \n",
      " 32  name                            119390 non-null  object \n",
      " 33  email                           119390 non-null  object \n",
      " 34  phone-number                    119390 non-null  object \n",
      " 35  credit_card                     119390 non-null  object \n",
      "dtypes: float64(4), int64(16), object(16)\n",
      "memory usage: 32.8+ MB\n"
     ]
    }
   ],
   "source": [
    "df.info()"
   ]
  },
  {
   "cell_type": "code",
   "execution_count": 8,
   "id": "97c95fb9",
   "metadata": {},
   "outputs": [],
   "source": [
    "df['reservation_status_date'] = pd.to_datetime(df['reservation_status_date'])"
   ]
  },
  {
   "cell_type": "code",
   "execution_count": 9,
   "id": "591b9f1a",
   "metadata": {},
   "outputs": [],
   "source": [
    "# Sum of the null values are 0 for categorical data & it is not 0 for numerical data type"
   ]
  },
  {
   "cell_type": "code",
   "execution_count": 10,
   "id": "44b0417b",
   "metadata": {},
   "outputs": [
    {
     "data": {
      "text/plain": [
       "hotel                                  0\n",
       "is_canceled                            0\n",
       "lead_time                              0\n",
       "arrival_date_year                      0\n",
       "arrival_date_month                     0\n",
       "arrival_date_week_number               0\n",
       "arrival_date_day_of_month              0\n",
       "stays_in_weekend_nights                0\n",
       "stays_in_week_nights                   0\n",
       "adults                                 0\n",
       "children                               4\n",
       "babies                                 0\n",
       "meal                                   0\n",
       "country                              488\n",
       "market_segment                         0\n",
       "distribution_channel                   0\n",
       "is_repeated_guest                      0\n",
       "previous_cancellations                 0\n",
       "previous_bookings_not_canceled         0\n",
       "reserved_room_type                     0\n",
       "assigned_room_type                     0\n",
       "booking_changes                        0\n",
       "deposit_type                           0\n",
       "agent                              16340\n",
       "company                           112593\n",
       "days_in_waiting_list                   0\n",
       "customer_type                          0\n",
       "adr                                    0\n",
       "required_car_parking_spaces            0\n",
       "total_of_special_requests              0\n",
       "reservation_status                     0\n",
       "reservation_status_date                0\n",
       "name                                   0\n",
       "email                                  0\n",
       "phone-number                           0\n",
       "credit_card                            0\n",
       "dtype: int64"
      ]
     },
     "execution_count": 10,
     "metadata": {},
     "output_type": "execute_result"
    }
   ],
   "source": [
    "df.isnull().sum()"
   ]
  },
  {
   "cell_type": "code",
   "execution_count": 11,
   "id": "e73b86f1",
   "metadata": {},
   "outputs": [],
   "source": [
    "# From the above data agent,company,country having more null values."
   ]
  },
  {
   "cell_type": "code",
   "execution_count": 12,
   "id": "b5584cf5",
   "metadata": {},
   "outputs": [],
   "source": [
    "df.drop(['company','agent'],axis = 1,inplace = True)\n",
    "df.dropna(inplace = True)"
   ]
  },
  {
   "cell_type": "code",
   "execution_count": 13,
   "id": "86403d2e",
   "metadata": {},
   "outputs": [],
   "source": [
    " # so company, agent we are dropping coz there was no effect on dataset"
   ]
  },
  {
   "cell_type": "code",
   "execution_count": 14,
   "id": "b4b3d867",
   "metadata": {},
   "outputs": [
    {
     "data": {
      "text/html": [
       "<div>\n",
       "<style scoped>\n",
       "    .dataframe tbody tr th:only-of-type {\n",
       "        vertical-align: middle;\n",
       "    }\n",
       "\n",
       "    .dataframe tbody tr th {\n",
       "        vertical-align: top;\n",
       "    }\n",
       "\n",
       "    .dataframe thead th {\n",
       "        text-align: right;\n",
       "    }\n",
       "</style>\n",
       "<table border=\"1\" class=\"dataframe\">\n",
       "  <thead>\n",
       "    <tr style=\"text-align: right;\">\n",
       "      <th></th>\n",
       "      <th>count</th>\n",
       "      <th>mean</th>\n",
       "      <th>std</th>\n",
       "      <th>min</th>\n",
       "      <th>25%</th>\n",
       "      <th>50%</th>\n",
       "      <th>75%</th>\n",
       "      <th>max</th>\n",
       "    </tr>\n",
       "  </thead>\n",
       "  <tbody>\n",
       "    <tr>\n",
       "      <th>is_canceled</th>\n",
       "      <td>118898.0</td>\n",
       "      <td>0.371352</td>\n",
       "      <td>0.483168</td>\n",
       "      <td>0.00</td>\n",
       "      <td>0.0</td>\n",
       "      <td>0.0</td>\n",
       "      <td>1.0</td>\n",
       "      <td>1.0</td>\n",
       "    </tr>\n",
       "    <tr>\n",
       "      <th>lead_time</th>\n",
       "      <td>118898.0</td>\n",
       "      <td>104.311435</td>\n",
       "      <td>106.903309</td>\n",
       "      <td>0.00</td>\n",
       "      <td>18.0</td>\n",
       "      <td>69.0</td>\n",
       "      <td>161.0</td>\n",
       "      <td>737.0</td>\n",
       "    </tr>\n",
       "    <tr>\n",
       "      <th>arrival_date_year</th>\n",
       "      <td>118898.0</td>\n",
       "      <td>2016.157656</td>\n",
       "      <td>0.707459</td>\n",
       "      <td>2015.00</td>\n",
       "      <td>2016.0</td>\n",
       "      <td>2016.0</td>\n",
       "      <td>2017.0</td>\n",
       "      <td>2017.0</td>\n",
       "    </tr>\n",
       "    <tr>\n",
       "      <th>arrival_date_week_number</th>\n",
       "      <td>118898.0</td>\n",
       "      <td>27.166555</td>\n",
       "      <td>13.589971</td>\n",
       "      <td>1.00</td>\n",
       "      <td>16.0</td>\n",
       "      <td>28.0</td>\n",
       "      <td>38.0</td>\n",
       "      <td>53.0</td>\n",
       "    </tr>\n",
       "    <tr>\n",
       "      <th>arrival_date_day_of_month</th>\n",
       "      <td>118898.0</td>\n",
       "      <td>15.800880</td>\n",
       "      <td>8.780324</td>\n",
       "      <td>1.00</td>\n",
       "      <td>8.0</td>\n",
       "      <td>16.0</td>\n",
       "      <td>23.0</td>\n",
       "      <td>31.0</td>\n",
       "    </tr>\n",
       "    <tr>\n",
       "      <th>stays_in_weekend_nights</th>\n",
       "      <td>118898.0</td>\n",
       "      <td>0.928897</td>\n",
       "      <td>0.996216</td>\n",
       "      <td>0.00</td>\n",
       "      <td>0.0</td>\n",
       "      <td>1.0</td>\n",
       "      <td>2.0</td>\n",
       "      <td>16.0</td>\n",
       "    </tr>\n",
       "    <tr>\n",
       "      <th>stays_in_week_nights</th>\n",
       "      <td>118898.0</td>\n",
       "      <td>2.502145</td>\n",
       "      <td>1.900168</td>\n",
       "      <td>0.00</td>\n",
       "      <td>1.0</td>\n",
       "      <td>2.0</td>\n",
       "      <td>3.0</td>\n",
       "      <td>41.0</td>\n",
       "    </tr>\n",
       "    <tr>\n",
       "      <th>adults</th>\n",
       "      <td>118898.0</td>\n",
       "      <td>1.858391</td>\n",
       "      <td>0.578576</td>\n",
       "      <td>0.00</td>\n",
       "      <td>2.0</td>\n",
       "      <td>2.0</td>\n",
       "      <td>2.0</td>\n",
       "      <td>55.0</td>\n",
       "    </tr>\n",
       "    <tr>\n",
       "      <th>children</th>\n",
       "      <td>118898.0</td>\n",
       "      <td>0.104207</td>\n",
       "      <td>0.399172</td>\n",
       "      <td>0.00</td>\n",
       "      <td>0.0</td>\n",
       "      <td>0.0</td>\n",
       "      <td>0.0</td>\n",
       "      <td>10.0</td>\n",
       "    </tr>\n",
       "    <tr>\n",
       "      <th>babies</th>\n",
       "      <td>118898.0</td>\n",
       "      <td>0.007948</td>\n",
       "      <td>0.097380</td>\n",
       "      <td>0.00</td>\n",
       "      <td>0.0</td>\n",
       "      <td>0.0</td>\n",
       "      <td>0.0</td>\n",
       "      <td>10.0</td>\n",
       "    </tr>\n",
       "    <tr>\n",
       "      <th>is_repeated_guest</th>\n",
       "      <td>118898.0</td>\n",
       "      <td>0.032011</td>\n",
       "      <td>0.176029</td>\n",
       "      <td>0.00</td>\n",
       "      <td>0.0</td>\n",
       "      <td>0.0</td>\n",
       "      <td>0.0</td>\n",
       "      <td>1.0</td>\n",
       "    </tr>\n",
       "    <tr>\n",
       "      <th>previous_cancellations</th>\n",
       "      <td>118898.0</td>\n",
       "      <td>0.087142</td>\n",
       "      <td>0.845869</td>\n",
       "      <td>0.00</td>\n",
       "      <td>0.0</td>\n",
       "      <td>0.0</td>\n",
       "      <td>0.0</td>\n",
       "      <td>26.0</td>\n",
       "    </tr>\n",
       "    <tr>\n",
       "      <th>previous_bookings_not_canceled</th>\n",
       "      <td>118898.0</td>\n",
       "      <td>0.131634</td>\n",
       "      <td>1.484672</td>\n",
       "      <td>0.00</td>\n",
       "      <td>0.0</td>\n",
       "      <td>0.0</td>\n",
       "      <td>0.0</td>\n",
       "      <td>72.0</td>\n",
       "    </tr>\n",
       "    <tr>\n",
       "      <th>booking_changes</th>\n",
       "      <td>118898.0</td>\n",
       "      <td>0.221181</td>\n",
       "      <td>0.652785</td>\n",
       "      <td>0.00</td>\n",
       "      <td>0.0</td>\n",
       "      <td>0.0</td>\n",
       "      <td>0.0</td>\n",
       "      <td>21.0</td>\n",
       "    </tr>\n",
       "    <tr>\n",
       "      <th>days_in_waiting_list</th>\n",
       "      <td>118898.0</td>\n",
       "      <td>2.330754</td>\n",
       "      <td>17.630452</td>\n",
       "      <td>0.00</td>\n",
       "      <td>0.0</td>\n",
       "      <td>0.0</td>\n",
       "      <td>0.0</td>\n",
       "      <td>391.0</td>\n",
       "    </tr>\n",
       "    <tr>\n",
       "      <th>adr</th>\n",
       "      <td>118898.0</td>\n",
       "      <td>102.003243</td>\n",
       "      <td>50.485862</td>\n",
       "      <td>-6.38</td>\n",
       "      <td>70.0</td>\n",
       "      <td>95.0</td>\n",
       "      <td>126.0</td>\n",
       "      <td>5400.0</td>\n",
       "    </tr>\n",
       "    <tr>\n",
       "      <th>required_car_parking_spaces</th>\n",
       "      <td>118898.0</td>\n",
       "      <td>0.061885</td>\n",
       "      <td>0.244172</td>\n",
       "      <td>0.00</td>\n",
       "      <td>0.0</td>\n",
       "      <td>0.0</td>\n",
       "      <td>0.0</td>\n",
       "      <td>8.0</td>\n",
       "    </tr>\n",
       "    <tr>\n",
       "      <th>total_of_special_requests</th>\n",
       "      <td>118898.0</td>\n",
       "      <td>0.571683</td>\n",
       "      <td>0.792678</td>\n",
       "      <td>0.00</td>\n",
       "      <td>0.0</td>\n",
       "      <td>0.0</td>\n",
       "      <td>1.0</td>\n",
       "      <td>5.0</td>\n",
       "    </tr>\n",
       "  </tbody>\n",
       "</table>\n",
       "</div>"
      ],
      "text/plain": [
       "                                   count         mean         std      min  \\\n",
       "is_canceled                     118898.0     0.371352    0.483168     0.00   \n",
       "lead_time                       118898.0   104.311435  106.903309     0.00   \n",
       "arrival_date_year               118898.0  2016.157656    0.707459  2015.00   \n",
       "arrival_date_week_number        118898.0    27.166555   13.589971     1.00   \n",
       "arrival_date_day_of_month       118898.0    15.800880    8.780324     1.00   \n",
       "stays_in_weekend_nights         118898.0     0.928897    0.996216     0.00   \n",
       "stays_in_week_nights            118898.0     2.502145    1.900168     0.00   \n",
       "adults                          118898.0     1.858391    0.578576     0.00   \n",
       "children                        118898.0     0.104207    0.399172     0.00   \n",
       "babies                          118898.0     0.007948    0.097380     0.00   \n",
       "is_repeated_guest               118898.0     0.032011    0.176029     0.00   \n",
       "previous_cancellations          118898.0     0.087142    0.845869     0.00   \n",
       "previous_bookings_not_canceled  118898.0     0.131634    1.484672     0.00   \n",
       "booking_changes                 118898.0     0.221181    0.652785     0.00   \n",
       "days_in_waiting_list            118898.0     2.330754   17.630452     0.00   \n",
       "adr                             118898.0   102.003243   50.485862    -6.38   \n",
       "required_car_parking_spaces     118898.0     0.061885    0.244172     0.00   \n",
       "total_of_special_requests       118898.0     0.571683    0.792678     0.00   \n",
       "\n",
       "                                   25%     50%     75%     max  \n",
       "is_canceled                        0.0     0.0     1.0     1.0  \n",
       "lead_time                         18.0    69.0   161.0   737.0  \n",
       "arrival_date_year               2016.0  2016.0  2017.0  2017.0  \n",
       "arrival_date_week_number          16.0    28.0    38.0    53.0  \n",
       "arrival_date_day_of_month          8.0    16.0    23.0    31.0  \n",
       "stays_in_weekend_nights            0.0     1.0     2.0    16.0  \n",
       "stays_in_week_nights               1.0     2.0     3.0    41.0  \n",
       "adults                             2.0     2.0     2.0    55.0  \n",
       "children                           0.0     0.0     0.0    10.0  \n",
       "babies                             0.0     0.0     0.0    10.0  \n",
       "is_repeated_guest                  0.0     0.0     0.0     1.0  \n",
       "previous_cancellations             0.0     0.0     0.0    26.0  \n",
       "previous_bookings_not_canceled     0.0     0.0     0.0    72.0  \n",
       "booking_changes                    0.0     0.0     0.0    21.0  \n",
       "days_in_waiting_list               0.0     0.0     0.0   391.0  \n",
       "adr                               70.0    95.0   126.0  5400.0  \n",
       "required_car_parking_spaces        0.0     0.0     0.0     8.0  \n",
       "total_of_special_requests          0.0     0.0     1.0     5.0  "
      ]
     },
     "execution_count": 14,
     "metadata": {},
     "output_type": "execute_result"
    }
   ],
   "source": [
    "df.describe().T"
   ]
  },
  {
   "cell_type": "code",
   "execution_count": 15,
   "id": "708c4fcd",
   "metadata": {},
   "outputs": [
    {
     "data": {
      "text/html": [
       "<div>\n",
       "<style scoped>\n",
       "    .dataframe tbody tr th:only-of-type {\n",
       "        vertical-align: middle;\n",
       "    }\n",
       "\n",
       "    .dataframe tbody tr th {\n",
       "        vertical-align: top;\n",
       "    }\n",
       "\n",
       "    .dataframe thead th {\n",
       "        text-align: right;\n",
       "    }\n",
       "</style>\n",
       "<table border=\"1\" class=\"dataframe\">\n",
       "  <thead>\n",
       "    <tr style=\"text-align: right;\">\n",
       "      <th></th>\n",
       "      <th>is_canceled</th>\n",
       "      <th>lead_time</th>\n",
       "      <th>arrival_date_year</th>\n",
       "      <th>arrival_date_week_number</th>\n",
       "      <th>arrival_date_day_of_month</th>\n",
       "      <th>stays_in_weekend_nights</th>\n",
       "      <th>stays_in_week_nights</th>\n",
       "      <th>adults</th>\n",
       "      <th>children</th>\n",
       "      <th>babies</th>\n",
       "      <th>is_repeated_guest</th>\n",
       "      <th>previous_cancellations</th>\n",
       "      <th>previous_bookings_not_canceled</th>\n",
       "      <th>booking_changes</th>\n",
       "      <th>days_in_waiting_list</th>\n",
       "      <th>adr</th>\n",
       "      <th>required_car_parking_spaces</th>\n",
       "      <th>total_of_special_requests</th>\n",
       "    </tr>\n",
       "  </thead>\n",
       "  <tbody>\n",
       "    <tr>\n",
       "      <th>is_canceled</th>\n",
       "      <td>1.000000</td>\n",
       "      <td>0.291994</td>\n",
       "      <td>0.016412</td>\n",
       "      <td>0.007465</td>\n",
       "      <td>-0.006127</td>\n",
       "      <td>-0.002631</td>\n",
       "      <td>0.024110</td>\n",
       "      <td>0.058381</td>\n",
       "      <td>0.004751</td>\n",
       "      <td>-0.032521</td>\n",
       "      <td>-0.085179</td>\n",
       "      <td>0.109922</td>\n",
       "      <td>-0.055493</td>\n",
       "      <td>-0.144659</td>\n",
       "      <td>0.054016</td>\n",
       "      <td>0.046199</td>\n",
       "      <td>-0.194796</td>\n",
       "      <td>-0.235643</td>\n",
       "    </tr>\n",
       "    <tr>\n",
       "      <th>lead_time</th>\n",
       "      <td>0.291994</td>\n",
       "      <td>1.000000</td>\n",
       "      <td>0.039924</td>\n",
       "      <td>0.126738</td>\n",
       "      <td>0.002320</td>\n",
       "      <td>0.083984</td>\n",
       "      <td>0.164783</td>\n",
       "      <td>0.116799</td>\n",
       "      <td>-0.038335</td>\n",
       "      <td>-0.021149</td>\n",
       "      <td>-0.125091</td>\n",
       "      <td>0.085961</td>\n",
       "      <td>-0.071128</td>\n",
       "      <td>0.000004</td>\n",
       "      <td>0.170007</td>\n",
       "      <td>-0.066381</td>\n",
       "      <td>-0.115561</td>\n",
       "      <td>-0.096536</td>\n",
       "    </tr>\n",
       "    <tr>\n",
       "      <th>arrival_date_year</th>\n",
       "      <td>0.016412</td>\n",
       "      <td>0.039924</td>\n",
       "      <td>1.000000</td>\n",
       "      <td>-0.540493</td>\n",
       "      <td>-0.000590</td>\n",
       "      <td>0.021669</td>\n",
       "      <td>0.031754</td>\n",
       "      <td>0.029146</td>\n",
       "      <td>0.054492</td>\n",
       "      <td>-0.013183</td>\n",
       "      <td>0.010128</td>\n",
       "      <td>-0.119922</td>\n",
       "      <td>0.029800</td>\n",
       "      <td>0.031124</td>\n",
       "      <td>-0.056823</td>\n",
       "      <td>0.197857</td>\n",
       "      <td>-0.012661</td>\n",
       "      <td>0.108927</td>\n",
       "    </tr>\n",
       "    <tr>\n",
       "      <th>arrival_date_week_number</th>\n",
       "      <td>0.007465</td>\n",
       "      <td>0.126738</td>\n",
       "      <td>-0.540493</td>\n",
       "      <td>1.000000</td>\n",
       "      <td>0.066839</td>\n",
       "      <td>0.017642</td>\n",
       "      <td>0.015007</td>\n",
       "      <td>0.025394</td>\n",
       "      <td>0.005494</td>\n",
       "      <td>0.010039</td>\n",
       "      <td>-0.030411</td>\n",
       "      <td>0.035367</td>\n",
       "      <td>-0.020768</td>\n",
       "      <td>0.005187</td>\n",
       "      <td>0.022993</td>\n",
       "      <td>0.075277</td>\n",
       "      <td>0.001717</td>\n",
       "      <td>0.025778</td>\n",
       "    </tr>\n",
       "    <tr>\n",
       "      <th>arrival_date_day_of_month</th>\n",
       "      <td>-0.006127</td>\n",
       "      <td>0.002320</td>\n",
       "      <td>-0.000590</td>\n",
       "      <td>0.066839</td>\n",
       "      <td>1.000000</td>\n",
       "      <td>-0.015920</td>\n",
       "      <td>-0.027608</td>\n",
       "      <td>-0.001837</td>\n",
       "      <td>0.014562</td>\n",
       "      <td>-0.000539</td>\n",
       "      <td>-0.006340</td>\n",
       "      <td>-0.027013</td>\n",
       "      <td>0.000118</td>\n",
       "      <td>0.010767</td>\n",
       "      <td>0.022737</td>\n",
       "      <td>0.029923</td>\n",
       "      <td>0.008262</td>\n",
       "      <td>0.003082</td>\n",
       "    </tr>\n",
       "    <tr>\n",
       "      <th>stays_in_weekend_nights</th>\n",
       "      <td>-0.002631</td>\n",
       "      <td>0.083984</td>\n",
       "      <td>0.021669</td>\n",
       "      <td>0.017642</td>\n",
       "      <td>-0.015920</td>\n",
       "      <td>1.000000</td>\n",
       "      <td>0.494888</td>\n",
       "      <td>0.090410</td>\n",
       "      <td>0.045430</td>\n",
       "      <td>0.018396</td>\n",
       "      <td>-0.087836</td>\n",
       "      <td>-0.013008</td>\n",
       "      <td>-0.040597</td>\n",
       "      <td>0.062401</td>\n",
       "      <td>-0.054568</td>\n",
       "      <td>0.047300</td>\n",
       "      <td>-0.018147</td>\n",
       "      <td>0.071669</td>\n",
       "    </tr>\n",
       "    <tr>\n",
       "      <th>stays_in_week_nights</th>\n",
       "      <td>0.024110</td>\n",
       "      <td>0.164783</td>\n",
       "      <td>0.031754</td>\n",
       "      <td>0.015007</td>\n",
       "      <td>-0.027608</td>\n",
       "      <td>0.494888</td>\n",
       "      <td>1.000000</td>\n",
       "      <td>0.091999</td>\n",
       "      <td>0.044259</td>\n",
       "      <td>0.020157</td>\n",
       "      <td>-0.097994</td>\n",
       "      <td>-0.014274</td>\n",
       "      <td>-0.047367</td>\n",
       "      <td>0.095665</td>\n",
       "      <td>-0.002161</td>\n",
       "      <td>0.063628</td>\n",
       "      <td>-0.024378</td>\n",
       "      <td>0.066785</td>\n",
       "    </tr>\n",
       "    <tr>\n",
       "      <th>adults</th>\n",
       "      <td>0.058381</td>\n",
       "      <td>0.116799</td>\n",
       "      <td>0.029146</td>\n",
       "      <td>0.025394</td>\n",
       "      <td>-0.001837</td>\n",
       "      <td>0.090410</td>\n",
       "      <td>0.091999</td>\n",
       "      <td>1.000000</td>\n",
       "      <td>0.029590</td>\n",
       "      <td>0.017887</td>\n",
       "      <td>-0.147494</td>\n",
       "      <td>-0.006974</td>\n",
       "      <td>-0.105028</td>\n",
       "      <td>-0.052420</td>\n",
       "      <td>-0.008765</td>\n",
       "      <td>0.227480</td>\n",
       "      <td>0.016370</td>\n",
       "      <td>0.121815</td>\n",
       "    </tr>\n",
       "    <tr>\n",
       "      <th>children</th>\n",
       "      <td>0.004751</td>\n",
       "      <td>-0.038335</td>\n",
       "      <td>0.054492</td>\n",
       "      <td>0.005494</td>\n",
       "      <td>0.014562</td>\n",
       "      <td>0.045430</td>\n",
       "      <td>0.044259</td>\n",
       "      <td>0.029590</td>\n",
       "      <td>1.000000</td>\n",
       "      <td>0.024131</td>\n",
       "      <td>-0.032990</td>\n",
       "      <td>-0.024752</td>\n",
       "      <td>-0.020364</td>\n",
       "      <td>0.048660</td>\n",
       "      <td>-0.033396</td>\n",
       "      <td>0.325034</td>\n",
       "      <td>0.057060</td>\n",
       "      <td>0.081786</td>\n",
       "    </tr>\n",
       "    <tr>\n",
       "      <th>babies</th>\n",
       "      <td>-0.032521</td>\n",
       "      <td>-0.021149</td>\n",
       "      <td>-0.013183</td>\n",
       "      <td>0.010039</td>\n",
       "      <td>-0.000539</td>\n",
       "      <td>0.018396</td>\n",
       "      <td>0.020157</td>\n",
       "      <td>0.017887</td>\n",
       "      <td>0.024131</td>\n",
       "      <td>1.000000</td>\n",
       "      <td>-0.008954</td>\n",
       "      <td>-0.007489</td>\n",
       "      <td>-0.006306</td>\n",
       "      <td>0.083220</td>\n",
       "      <td>-0.010648</td>\n",
       "      <td>0.028591</td>\n",
       "      <td>0.036971</td>\n",
       "      <td>0.097601</td>\n",
       "    </tr>\n",
       "    <tr>\n",
       "      <th>is_repeated_guest</th>\n",
       "      <td>-0.085179</td>\n",
       "      <td>-0.125091</td>\n",
       "      <td>0.010128</td>\n",
       "      <td>-0.030411</td>\n",
       "      <td>-0.006340</td>\n",
       "      <td>-0.087836</td>\n",
       "      <td>-0.097994</td>\n",
       "      <td>-0.147494</td>\n",
       "      <td>-0.032990</td>\n",
       "      <td>-0.008954</td>\n",
       "      <td>1.000000</td>\n",
       "      <td>0.082376</td>\n",
       "      <td>0.423259</td>\n",
       "      <td>0.012164</td>\n",
       "      <td>-0.022322</td>\n",
       "      <td>-0.135388</td>\n",
       "      <td>0.077776</td>\n",
       "      <td>0.013151</td>\n",
       "    </tr>\n",
       "    <tr>\n",
       "      <th>previous_cancellations</th>\n",
       "      <td>0.109922</td>\n",
       "      <td>0.085961</td>\n",
       "      <td>-0.119922</td>\n",
       "      <td>0.035367</td>\n",
       "      <td>-0.027013</td>\n",
       "      <td>-0.013008</td>\n",
       "      <td>-0.014274</td>\n",
       "      <td>-0.006974</td>\n",
       "      <td>-0.024752</td>\n",
       "      <td>-0.007489</td>\n",
       "      <td>0.082376</td>\n",
       "      <td>1.000000</td>\n",
       "      <td>0.154285</td>\n",
       "      <td>-0.027092</td>\n",
       "      <td>0.005927</td>\n",
       "      <td>-0.065930</td>\n",
       "      <td>-0.018455</td>\n",
       "      <td>-0.048585</td>\n",
       "    </tr>\n",
       "    <tr>\n",
       "      <th>previous_bookings_not_canceled</th>\n",
       "      <td>-0.055493</td>\n",
       "      <td>-0.071128</td>\n",
       "      <td>0.029800</td>\n",
       "      <td>-0.020768</td>\n",
       "      <td>0.000118</td>\n",
       "      <td>-0.040597</td>\n",
       "      <td>-0.047367</td>\n",
       "      <td>-0.105028</td>\n",
       "      <td>-0.020364</td>\n",
       "      <td>-0.006306</td>\n",
       "      <td>0.423259</td>\n",
       "      <td>0.154285</td>\n",
       "      <td>1.000000</td>\n",
       "      <td>0.011970</td>\n",
       "      <td>-0.009011</td>\n",
       "      <td>-0.069638</td>\n",
       "      <td>0.046945</td>\n",
       "      <td>0.037595</td>\n",
       "    </tr>\n",
       "    <tr>\n",
       "      <th>booking_changes</th>\n",
       "      <td>-0.144659</td>\n",
       "      <td>0.000004</td>\n",
       "      <td>0.031124</td>\n",
       "      <td>0.005187</td>\n",
       "      <td>0.010767</td>\n",
       "      <td>0.062401</td>\n",
       "      <td>0.095665</td>\n",
       "      <td>-0.052420</td>\n",
       "      <td>0.048660</td>\n",
       "      <td>0.083220</td>\n",
       "      <td>0.012164</td>\n",
       "      <td>-0.027092</td>\n",
       "      <td>0.011970</td>\n",
       "      <td>1.000000</td>\n",
       "      <td>-0.011661</td>\n",
       "      <td>0.019201</td>\n",
       "      <td>0.065724</td>\n",
       "      <td>0.052434</td>\n",
       "    </tr>\n",
       "    <tr>\n",
       "      <th>days_in_waiting_list</th>\n",
       "      <td>0.054016</td>\n",
       "      <td>0.170007</td>\n",
       "      <td>-0.056823</td>\n",
       "      <td>0.022993</td>\n",
       "      <td>0.022737</td>\n",
       "      <td>-0.054568</td>\n",
       "      <td>-0.002161</td>\n",
       "      <td>-0.008765</td>\n",
       "      <td>-0.033396</td>\n",
       "      <td>-0.010648</td>\n",
       "      <td>-0.022322</td>\n",
       "      <td>0.005927</td>\n",
       "      <td>-0.009011</td>\n",
       "      <td>-0.011661</td>\n",
       "      <td>1.000000</td>\n",
       "      <td>-0.041333</td>\n",
       "      <td>-0.030462</td>\n",
       "      <td>-0.082970</td>\n",
       "    </tr>\n",
       "    <tr>\n",
       "      <th>adr</th>\n",
       "      <td>0.046199</td>\n",
       "      <td>-0.066381</td>\n",
       "      <td>0.197857</td>\n",
       "      <td>0.075277</td>\n",
       "      <td>0.029923</td>\n",
       "      <td>0.047300</td>\n",
       "      <td>0.063628</td>\n",
       "      <td>0.227480</td>\n",
       "      <td>0.325034</td>\n",
       "      <td>0.028591</td>\n",
       "      <td>-0.135388</td>\n",
       "      <td>-0.065930</td>\n",
       "      <td>-0.069638</td>\n",
       "      <td>0.019201</td>\n",
       "      <td>-0.041333</td>\n",
       "      <td>1.000000</td>\n",
       "      <td>0.058053</td>\n",
       "      <td>0.171458</td>\n",
       "    </tr>\n",
       "    <tr>\n",
       "      <th>required_car_parking_spaces</th>\n",
       "      <td>-0.194796</td>\n",
       "      <td>-0.115561</td>\n",
       "      <td>-0.012661</td>\n",
       "      <td>0.001717</td>\n",
       "      <td>0.008262</td>\n",
       "      <td>-0.018147</td>\n",
       "      <td>-0.024378</td>\n",
       "      <td>0.016370</td>\n",
       "      <td>0.057060</td>\n",
       "      <td>0.036971</td>\n",
       "      <td>0.077776</td>\n",
       "      <td>-0.018455</td>\n",
       "      <td>0.046945</td>\n",
       "      <td>0.065724</td>\n",
       "      <td>-0.030462</td>\n",
       "      <td>0.058053</td>\n",
       "      <td>1.000000</td>\n",
       "      <td>0.082675</td>\n",
       "    </tr>\n",
       "    <tr>\n",
       "      <th>total_of_special_requests</th>\n",
       "      <td>-0.235643</td>\n",
       "      <td>-0.096536</td>\n",
       "      <td>0.108927</td>\n",
       "      <td>0.025778</td>\n",
       "      <td>0.003082</td>\n",
       "      <td>0.071669</td>\n",
       "      <td>0.066785</td>\n",
       "      <td>0.121815</td>\n",
       "      <td>0.081786</td>\n",
       "      <td>0.097601</td>\n",
       "      <td>0.013151</td>\n",
       "      <td>-0.048585</td>\n",
       "      <td>0.037595</td>\n",
       "      <td>0.052434</td>\n",
       "      <td>-0.082970</td>\n",
       "      <td>0.171458</td>\n",
       "      <td>0.082675</td>\n",
       "      <td>1.000000</td>\n",
       "    </tr>\n",
       "  </tbody>\n",
       "</table>\n",
       "</div>"
      ],
      "text/plain": [
       "                                is_canceled  lead_time  arrival_date_year  \\\n",
       "is_canceled                        1.000000   0.291994           0.016412   \n",
       "lead_time                          0.291994   1.000000           0.039924   \n",
       "arrival_date_year                  0.016412   0.039924           1.000000   \n",
       "arrival_date_week_number           0.007465   0.126738          -0.540493   \n",
       "arrival_date_day_of_month         -0.006127   0.002320          -0.000590   \n",
       "stays_in_weekend_nights           -0.002631   0.083984           0.021669   \n",
       "stays_in_week_nights               0.024110   0.164783           0.031754   \n",
       "adults                             0.058381   0.116799           0.029146   \n",
       "children                           0.004751  -0.038335           0.054492   \n",
       "babies                            -0.032521  -0.021149          -0.013183   \n",
       "is_repeated_guest                 -0.085179  -0.125091           0.010128   \n",
       "previous_cancellations             0.109922   0.085961          -0.119922   \n",
       "previous_bookings_not_canceled    -0.055493  -0.071128           0.029800   \n",
       "booking_changes                   -0.144659   0.000004           0.031124   \n",
       "days_in_waiting_list               0.054016   0.170007          -0.056823   \n",
       "adr                                0.046199  -0.066381           0.197857   \n",
       "required_car_parking_spaces       -0.194796  -0.115561          -0.012661   \n",
       "total_of_special_requests         -0.235643  -0.096536           0.108927   \n",
       "\n",
       "                                arrival_date_week_number  \\\n",
       "is_canceled                                     0.007465   \n",
       "lead_time                                       0.126738   \n",
       "arrival_date_year                              -0.540493   \n",
       "arrival_date_week_number                        1.000000   \n",
       "arrival_date_day_of_month                       0.066839   \n",
       "stays_in_weekend_nights                         0.017642   \n",
       "stays_in_week_nights                            0.015007   \n",
       "adults                                          0.025394   \n",
       "children                                        0.005494   \n",
       "babies                                          0.010039   \n",
       "is_repeated_guest                              -0.030411   \n",
       "previous_cancellations                          0.035367   \n",
       "previous_bookings_not_canceled                 -0.020768   \n",
       "booking_changes                                 0.005187   \n",
       "days_in_waiting_list                            0.022993   \n",
       "adr                                             0.075277   \n",
       "required_car_parking_spaces                     0.001717   \n",
       "total_of_special_requests                       0.025778   \n",
       "\n",
       "                                arrival_date_day_of_month  \\\n",
       "is_canceled                                     -0.006127   \n",
       "lead_time                                        0.002320   \n",
       "arrival_date_year                               -0.000590   \n",
       "arrival_date_week_number                         0.066839   \n",
       "arrival_date_day_of_month                        1.000000   \n",
       "stays_in_weekend_nights                         -0.015920   \n",
       "stays_in_week_nights                            -0.027608   \n",
       "adults                                          -0.001837   \n",
       "children                                         0.014562   \n",
       "babies                                          -0.000539   \n",
       "is_repeated_guest                               -0.006340   \n",
       "previous_cancellations                          -0.027013   \n",
       "previous_bookings_not_canceled                   0.000118   \n",
       "booking_changes                                  0.010767   \n",
       "days_in_waiting_list                             0.022737   \n",
       "adr                                              0.029923   \n",
       "required_car_parking_spaces                      0.008262   \n",
       "total_of_special_requests                        0.003082   \n",
       "\n",
       "                                stays_in_weekend_nights  stays_in_week_nights  \\\n",
       "is_canceled                                   -0.002631              0.024110   \n",
       "lead_time                                      0.083984              0.164783   \n",
       "arrival_date_year                              0.021669              0.031754   \n",
       "arrival_date_week_number                       0.017642              0.015007   \n",
       "arrival_date_day_of_month                     -0.015920             -0.027608   \n",
       "stays_in_weekend_nights                        1.000000              0.494888   \n",
       "stays_in_week_nights                           0.494888              1.000000   \n",
       "adults                                         0.090410              0.091999   \n",
       "children                                       0.045430              0.044259   \n",
       "babies                                         0.018396              0.020157   \n",
       "is_repeated_guest                             -0.087836             -0.097994   \n",
       "previous_cancellations                        -0.013008             -0.014274   \n",
       "previous_bookings_not_canceled                -0.040597             -0.047367   \n",
       "booking_changes                                0.062401              0.095665   \n",
       "days_in_waiting_list                          -0.054568             -0.002161   \n",
       "adr                                            0.047300              0.063628   \n",
       "required_car_parking_spaces                   -0.018147             -0.024378   \n",
       "total_of_special_requests                      0.071669              0.066785   \n",
       "\n",
       "                                  adults  children    babies  \\\n",
       "is_canceled                     0.058381  0.004751 -0.032521   \n",
       "lead_time                       0.116799 -0.038335 -0.021149   \n",
       "arrival_date_year               0.029146  0.054492 -0.013183   \n",
       "arrival_date_week_number        0.025394  0.005494  0.010039   \n",
       "arrival_date_day_of_month      -0.001837  0.014562 -0.000539   \n",
       "stays_in_weekend_nights         0.090410  0.045430  0.018396   \n",
       "stays_in_week_nights            0.091999  0.044259  0.020157   \n",
       "adults                          1.000000  0.029590  0.017887   \n",
       "children                        0.029590  1.000000  0.024131   \n",
       "babies                          0.017887  0.024131  1.000000   \n",
       "is_repeated_guest              -0.147494 -0.032990 -0.008954   \n",
       "previous_cancellations         -0.006974 -0.024752 -0.007489   \n",
       "previous_bookings_not_canceled -0.105028 -0.020364 -0.006306   \n",
       "booking_changes                -0.052420  0.048660  0.083220   \n",
       "days_in_waiting_list           -0.008765 -0.033396 -0.010648   \n",
       "adr                             0.227480  0.325034  0.028591   \n",
       "required_car_parking_spaces     0.016370  0.057060  0.036971   \n",
       "total_of_special_requests       0.121815  0.081786  0.097601   \n",
       "\n",
       "                                is_repeated_guest  previous_cancellations  \\\n",
       "is_canceled                             -0.085179                0.109922   \n",
       "lead_time                               -0.125091                0.085961   \n",
       "arrival_date_year                        0.010128               -0.119922   \n",
       "arrival_date_week_number                -0.030411                0.035367   \n",
       "arrival_date_day_of_month               -0.006340               -0.027013   \n",
       "stays_in_weekend_nights                 -0.087836               -0.013008   \n",
       "stays_in_week_nights                    -0.097994               -0.014274   \n",
       "adults                                  -0.147494               -0.006974   \n",
       "children                                -0.032990               -0.024752   \n",
       "babies                                  -0.008954               -0.007489   \n",
       "is_repeated_guest                        1.000000                0.082376   \n",
       "previous_cancellations                   0.082376                1.000000   \n",
       "previous_bookings_not_canceled           0.423259                0.154285   \n",
       "booking_changes                          0.012164               -0.027092   \n",
       "days_in_waiting_list                    -0.022322                0.005927   \n",
       "adr                                     -0.135388               -0.065930   \n",
       "required_car_parking_spaces              0.077776               -0.018455   \n",
       "total_of_special_requests                0.013151               -0.048585   \n",
       "\n",
       "                                previous_bookings_not_canceled  \\\n",
       "is_canceled                                          -0.055493   \n",
       "lead_time                                            -0.071128   \n",
       "arrival_date_year                                     0.029800   \n",
       "arrival_date_week_number                             -0.020768   \n",
       "arrival_date_day_of_month                             0.000118   \n",
       "stays_in_weekend_nights                              -0.040597   \n",
       "stays_in_week_nights                                 -0.047367   \n",
       "adults                                               -0.105028   \n",
       "children                                             -0.020364   \n",
       "babies                                               -0.006306   \n",
       "is_repeated_guest                                     0.423259   \n",
       "previous_cancellations                                0.154285   \n",
       "previous_bookings_not_canceled                        1.000000   \n",
       "booking_changes                                       0.011970   \n",
       "days_in_waiting_list                                 -0.009011   \n",
       "adr                                                  -0.069638   \n",
       "required_car_parking_spaces                           0.046945   \n",
       "total_of_special_requests                             0.037595   \n",
       "\n",
       "                                booking_changes  days_in_waiting_list  \\\n",
       "is_canceled                           -0.144659              0.054016   \n",
       "lead_time                              0.000004              0.170007   \n",
       "arrival_date_year                      0.031124             -0.056823   \n",
       "arrival_date_week_number               0.005187              0.022993   \n",
       "arrival_date_day_of_month              0.010767              0.022737   \n",
       "stays_in_weekend_nights                0.062401             -0.054568   \n",
       "stays_in_week_nights                   0.095665             -0.002161   \n",
       "adults                                -0.052420             -0.008765   \n",
       "children                               0.048660             -0.033396   \n",
       "babies                                 0.083220             -0.010648   \n",
       "is_repeated_guest                      0.012164             -0.022322   \n",
       "previous_cancellations                -0.027092              0.005927   \n",
       "previous_bookings_not_canceled         0.011970             -0.009011   \n",
       "booking_changes                        1.000000             -0.011661   \n",
       "days_in_waiting_list                  -0.011661              1.000000   \n",
       "adr                                    0.019201             -0.041333   \n",
       "required_car_parking_spaces            0.065724             -0.030462   \n",
       "total_of_special_requests              0.052434             -0.082970   \n",
       "\n",
       "                                     adr  required_car_parking_spaces  \\\n",
       "is_canceled                     0.046199                    -0.194796   \n",
       "lead_time                      -0.066381                    -0.115561   \n",
       "arrival_date_year               0.197857                    -0.012661   \n",
       "arrival_date_week_number        0.075277                     0.001717   \n",
       "arrival_date_day_of_month       0.029923                     0.008262   \n",
       "stays_in_weekend_nights         0.047300                    -0.018147   \n",
       "stays_in_week_nights            0.063628                    -0.024378   \n",
       "adults                          0.227480                     0.016370   \n",
       "children                        0.325034                     0.057060   \n",
       "babies                          0.028591                     0.036971   \n",
       "is_repeated_guest              -0.135388                     0.077776   \n",
       "previous_cancellations         -0.065930                    -0.018455   \n",
       "previous_bookings_not_canceled -0.069638                     0.046945   \n",
       "booking_changes                 0.019201                     0.065724   \n",
       "days_in_waiting_list           -0.041333                    -0.030462   \n",
       "adr                             1.000000                     0.058053   \n",
       "required_car_parking_spaces     0.058053                     1.000000   \n",
       "total_of_special_requests       0.171458                     0.082675   \n",
       "\n",
       "                                total_of_special_requests  \n",
       "is_canceled                                     -0.235643  \n",
       "lead_time                                       -0.096536  \n",
       "arrival_date_year                                0.108927  \n",
       "arrival_date_week_number                         0.025778  \n",
       "arrival_date_day_of_month                        0.003082  \n",
       "stays_in_weekend_nights                          0.071669  \n",
       "stays_in_week_nights                             0.066785  \n",
       "adults                                           0.121815  \n",
       "children                                         0.081786  \n",
       "babies                                           0.097601  \n",
       "is_repeated_guest                                0.013151  \n",
       "previous_cancellations                          -0.048585  \n",
       "previous_bookings_not_canceled                   0.037595  \n",
       "booking_changes                                  0.052434  \n",
       "days_in_waiting_list                            -0.082970  \n",
       "adr                                              0.171458  \n",
       "required_car_parking_spaces                      0.082675  \n",
       "total_of_special_requests                        1.000000  "
      ]
     },
     "execution_count": 15,
     "metadata": {},
     "output_type": "execute_result"
    }
   ],
   "source": [
    "df.corr()"
   ]
  },
  {
   "cell_type": "markdown",
   "id": "8c072ab5",
   "metadata": {},
   "source": [
    "## From above I am considering on which is correlation>0.1\n",
    "\n",
    "\n",
    "['lead_time','previous_cancellations', 'booking_changes', 'days_in_waiting_list', 'required_car_parking_spaces', 'total_of_special_requests']"
   ]
  },
  {
   "cell_type": "code",
   "execution_count": 16,
   "id": "5c6310e7",
   "metadata": {},
   "outputs": [],
   "source": [
    "df = df[df['adr']< 5000]"
   ]
  },
  {
   "cell_type": "code",
   "execution_count": 17,
   "id": "21f51da4",
   "metadata": {},
   "outputs": [
    {
     "data": {
      "text/plain": [
       "<AxesSubplot:>"
      ]
     },
     "execution_count": 17,
     "metadata": {},
     "output_type": "execute_result"
    },
    {
     "data": {
      "image/png": "[encoded data removed]",
      "text/plain": [
       "<Figure size 432x288 with 1 Axes>"
      ]
     },
     "metadata": {
      "needs_background": "light"
     },
     "output_type": "display_data"
    }
   ],
   "source": [
    "df['adr'].plot(kind = 'box')"
   ]
  },
  {
   "cell_type": "code",
   "execution_count": 18,
   "id": "fa14fd7e",
   "metadata": {},
   "outputs": [],
   "source": [
    "df = df[df['adr']< 400]"
   ]
  },
  {
   "cell_type": "code",
   "execution_count": 19,
   "id": "f57cdb5c",
   "metadata": {},
   "outputs": [
    {
     "data": {
      "text/plain": [
       "<AxesSubplot:>"
      ]
     },
     "execution_count": 19,
     "metadata": {},
     "output_type": "execute_result"
    },
    {
     "data": {
      "image/png": "[encoded data removed]",
      "text/plain": [
       "<Figure size 432x288 with 1 Axes>"
      ]
     },
     "metadata": {
      "needs_background": "light"
     },
     "output_type": "display_data"
    }
   ],
   "source": [
    "df['adr'].plot(kind = 'box')"
   ]
  },
  {
   "cell_type": "markdown",
   "id": "1a45834f",
   "metadata": {},
   "source": [
    "## Data Analysis and Visualisation"
   ]
  },
  {
   "cell_type": "code",
   "execution_count": 20,
   "id": "9a3377a5",
   "metadata": {},
   "outputs": [],
   "source": [
    "# Calculate ratio of cancellation of Bookings"
   ]
  },
  {
   "cell_type": "code",
   "execution_count": 21,
   "id": "d057e29a",
   "metadata": {},
   "outputs": [
    {
     "name": "stdout",
     "output_type": "stream",
     "text": [
      "0    0.628648\n",
      "1    0.371352\n",
      "Name: is_canceled, dtype: float64\n"
     ]
    },
    {
     "data": {
      "image/png": "[encoded data removed]",
      "text/plain": [
       "<Figure size 360x288 with 1 Axes>"
      ]
     },
     "metadata": {
      "needs_background": "light"
     },
     "output_type": "display_data"
    }
   ],
   "source": [
    "cancelled_perc = df['is_canceled'].value_counts(normalize = True)\n",
    "print(cancelled_perc)\n",
    "\n",
    "plt.figure(figsize = (5,4))\n",
    "plt.title('Reservation Status Count')\n",
    "plt.bar(['Not Canceled','Canceled'], df['is_canceled'].value_counts(),edgecolor = 'k', width = 0.7)\n",
    "plt.show()"
   ]
  },
  {
   "cell_type": "code",
   "execution_count": 22,
   "id": "66857e14",
   "metadata": {},
   "outputs": [
    {
     "data": {
      "image/png": "[encoded data removed]",
      "text/plain": [
       "<Figure size 576x288 with 1 Axes>"
      ]
     },
     "metadata": {
      "needs_background": "light"
     },
     "output_type": "display_data"
    }
   ],
   "source": [
    "plt.figure(figsize=(8, 4))\n",
    "ax1 = sns.countplot(x='hotel', hue='is_canceled', data=df, palette='Blues')\n",
    "\n",
    "# Get the legend handles and labels for customizing the legend\n",
    "legend_labels, _ = ax1.get_legend_handles_labels()\n",
    "plt.title('Reservation status in different hotels', size=20)\n",
    "plt.xlabel('hotel')\n",
    "plt.ylabel('Number of Reservations')\n",
    "\n",
    "# Display the count plot\n",
    "plt.show()"
   ]
  },
  {
   "cell_type": "code",
   "execution_count": 23,
   "id": "fa76c615",
   "metadata": {},
   "outputs": [
    {
     "data": {
      "text/plain": [
       "0    0.720265\n",
       "1    0.279735\n",
       "Name: is_canceled, dtype: float64"
      ]
     },
     "execution_count": 23,
     "metadata": {},
     "output_type": "execute_result"
    }
   ],
   "source": [
    "resort_hotel = df[df['hotel'] == 'Resort Hotel']\n",
    "resort_hotel['is_canceled'].value_counts(normalize = True)"
   ]
  },
  {
   "cell_type": "code",
   "execution_count": 24,
   "id": "0c503036",
   "metadata": {},
   "outputs": [
    {
     "data": {
      "text/plain": [
       "0    0.582908\n",
       "1    0.417092\n",
       "Name: is_canceled, dtype: float64"
      ]
     },
     "execution_count": 24,
     "metadata": {},
     "output_type": "execute_result"
    }
   ],
   "source": [
    "city_hotel = df[df['hotel'] == 'City Hotel']\n",
    "city_hotel['is_canceled'].value_counts(normalize = True)"
   ]
  },
  {
   "cell_type": "code",
   "execution_count": 25,
   "id": "a8ad0893",
   "metadata": {},
   "outputs": [],
   "source": [
    "resort_hotel = resort_hotel.groupby('reservation_status_date')[['adr']].mean()\n",
    "city_hotel = city_hotel.groupby('reservation_status_date')[['adr']].mean()"
   ]
  },
  {
   "cell_type": "code",
   "execution_count": 48,
   "id": "834fdd9f",
   "metadata": {},
   "outputs": [
    {
     "data": {
      "image/png": "[encoded data removed]",
      "text/plain": [
       "<Figure size 1440x576 with 1 Axes>"
      ]
     },
     "metadata": {
      "needs_background": "light"
     },
     "output_type": "display_data"
    }
   ],
   "source": [
    "plt.figure(figsize = (20,8))\n",
    "\n",
    "# Plot the average daily rate for the resort hotel\n",
    "plt.title('Average daily rate in city and resort hotel', fontsize = 30)\n",
    "plt.plot(resort_hotel.index, resort_hotel['adr'], label= 'Resort Hotel')\n",
    "\n",
    "# Plot the average daily rate for the city hotel\n",
    "plt.plot(city_hotel.index, city_hotel['adr'], label= 'City Hotel')\n",
    "plt.legend(fontsize = 20)\n",
    "plt.show()"
   ]
  },
  {
   "cell_type": "code",
   "execution_count": 49,
   "id": "b1d28f98",
   "metadata": {},
   "outputs": [
    {
     "data": {
      "image/png": "[encoded data removed]",
      "text/plain": [
       "<Figure size 1152x576 with 1 Axes>"
      ]
     },
     "metadata": {
      "needs_background": "light"
     },
     "output_type": "display_data"
    }
   ],
   "source": [
    "# Extract the month from the 'reservation_status_date' column and assign it to a new 'month' column\n",
    "df['month'] = df['reservation_status_date'].dt.month\n",
    "plt.figure(figsize = (16,8))\n",
    "\n",
    "# Set the x-axis as 'month', the hue as 'is_canceled', and the data as the DataFrame 'df'\n",
    "ax1 = sns.countplot(x= 'month', hue = 'is_canceled', data = df, palette = 'bright')\n",
    "\n",
    "# Get the legend handles and labels for customizing the legend\n",
    "legend_labels,_ = ax1.get_legend_handles_labels()\n",
    "ax1.legend(bbox_to_anchor=(1,1))\n",
    "\n",
    "plt.title('Reservations per months', size = 20)\n",
    "plt.xlabel('hotel')\n",
    "plt.ylabel('number of reservations')\n",
    "plt.legend(['not canceled', 'canceled'])\n",
    "plt.show()"
   ]
  },
  {
   "cell_type": "code",
   "execution_count": 53,
   "id": "a0c36e5a",
   "metadata": {},
   "outputs": [
    {
     "data": {
      "image/png": "[encoded data removed]",
      "text/plain": [
       "<Figure size 1080x576 with 1 Axes>"
      ]
     },
     "metadata": {
      "needs_background": "light"
     },
     "output_type": "display_data"
    }
   ],
   "source": [
    "plt.figure(figsize = (15,8))\n",
    "plt.title('ADR per month', fontsize= 30)\n",
    "\n",
    "# Create a bar plot using Seaborn's `barplot` function\n",
    "# Set the x-axis as 'month', the y-axis as 'adr', and the data as the grouped data\n",
    "sns.barplot('month', 'adr', data= df[df['is_canceled']==1].groupby('month')[['adr']].sum().reset_index())\n",
    "plt.show()"
   ]
  },
  {
   "cell_type": "code",
   "execution_count": 51,
   "id": "d7f6e65e",
   "metadata": {},
   "outputs": [
    {
     "data": {
      "text/plain": [
       "0    74740\n",
       "1    44150\n",
       "Name: is_canceled, dtype: int64"
      ]
     },
     "execution_count": 51,
     "metadata": {},
     "output_type": "execute_result"
    }
   ],
   "source": [
    "df['is_canceled'].value_counts()"
   ]
  },
  {
   "cell_type": "code",
   "execution_count": 52,
   "id": "a020f3ed",
   "metadata": {},
   "outputs": [
    {
     "data": {
      "image/png": "[encoded data removed]",
      "text/plain": [
       "<Figure size 576x576 with 1 Axes>"
      ]
     },
     "metadata": {},
     "output_type": "display_data"
    }
   ],
   "source": [
    "# Filter the DataFrame to include only canceled reservations\n",
    "cancelled_data = df[df['is_canceled'] == 1]\n",
    "\n",
    "# Count the occurrences of each country in the canceled reservations and select the top 10 countries\n",
    "top_10_country = cancelled_data['country'].value_counts()[:10]\n",
    "plt.figure(figsize=(8, 8))\n",
    "plt.title('Top Countries with Reservation Cancelled')\n",
    "\n",
    "# The `autopct` parameter specifies the format of the percentage values\n",
    "# The `labels` parameter specifies the labels for each pie slice, which are the country names\n",
    "plt.pie(top_10_country, autopct='%.2f', labels=top_10_country.index)\n",
    "\n",
    "plt.show()"
   ]
  },
  {
   "cell_type": "markdown",
   "id": "3740cafb",
   "metadata": {},
   "source": [
    "# Splitting the data into train and test sets¶\n",
    "."
   ]
  },
  {
   "cell_type": "code",
   "execution_count": 31,
   "id": "2d14a6a7",
   "metadata": {},
   "outputs": [],
   "source": [
    "from sklearn.model_selection import train_test_split"
   ]
  },
  {
   "cell_type": "code",
   "execution_count": 32,
   "id": "2943b1b9",
   "metadata": {},
   "outputs": [],
   "source": [
    "feature = df[['lead_time','previous_cancellations', 'booking_changes', 'days_in_waiting_list', 'required_car_parking_spaces', 'total_of_special_requests']]\n",
    "label =  df['is_canceled']"
   ]
  },
  {
   "cell_type": "code",
   "execution_count": 33,
   "id": "80f86750",
   "metadata": {},
   "outputs": [],
   "source": [
    "X = feature  # x -Independent Variable\n",
    "\n",
    "y = label  # y -Dependent Variable"
   ]
  },
  {
   "cell_type": "markdown",
   "id": "598685f9",
   "metadata": {},
   "source": [
    "Test and Train we split as 70:30 ratio"
   ]
  },
  {
   "cell_type": "code",
   "execution_count": 34,
   "id": "5ec5a917",
   "metadata": {},
   "outputs": [],
   "source": [
    "X_train, X_test, y_train, y_test = train_test_split(X, y, test_size=0.3)"
   ]
  },
  {
   "cell_type": "markdown",
   "id": "2bd24aec",
   "metadata": {},
   "source": [
    "# Random Forest Classifier\n",
    "\"Random Forest is an ensemble learning algorithm that builds multiple decision trees and combines their predictions for more accurate results. It uses random subsets of data and features to reduce overfitting and improve generalization"
   ]
  },
  {
   "cell_type": "code",
   "execution_count": 35,
   "id": "98150ebb",
   "metadata": {},
   "outputs": [],
   "source": [
    "from sklearn.ensemble import RandomForestClassifier"
   ]
  },
  {
   "cell_type": "code",
   "execution_count": 36,
   "id": "7e20e770",
   "metadata": {},
   "outputs": [],
   "source": [
    "rfc = RandomForestClassifier(n_estimators=140,max_features='auto', max_depth=20)\n",
    "rfc.fit(X_train,y_train)\n",
    "rfcpred = rfc.predict(X_test)"
   ]
  },
  {
   "cell_type": "code",
   "execution_count": 37,
   "id": "9224df91",
   "metadata": {},
   "outputs": [
    {
     "name": "stdout",
     "output_type": "stream",
     "text": [
      "RFC\n",
      "\n",
      "              precision    recall  f1-score   support\n",
      "\n",
      "           0       0.78      0.86      0.82     22458\n",
      "           1       0.71      0.59      0.65     13209\n",
      "\n",
      "    accuracy                           0.76     35667\n",
      "   macro avg       0.75      0.72      0.73     35667\n",
      "weighted avg       0.76      0.76      0.75     35667\n",
      "\n",
      "\n",
      "confusion matrix\n",
      "[[19310  3148]\n",
      " [ 5417  7792]]\n",
      "accuracy of random forest model =  0.7598620573639498\n"
     ]
    },
    {
     "data": {
      "text/plain": [
       "<AxesSubplot:>"
      ]
     },
     "execution_count": 37,
     "metadata": {},
     "output_type": "execute_result"
    },
    {
     "data": {
      "image/png": "[encoded data removed]",
      "text/plain": [
       "<Figure size 432x288 with 2 Axes>"
      ]
     },
     "metadata": {
      "needs_background": "light"
     },
     "output_type": "display_data"
    }
   ],
   "source": [
    "from sklearn.metrics import classification_report, accuracy_score, confusion_matrix\n",
    "print('RFC' + '\\n')\n",
    "print(classification_report(y_test,rfcpred))\n",
    "print('\\n' + 'confusion matrix')\n",
    "print(confusion_matrix(y_test,rfcpred))\n",
    "print('accuracy of random forest model = ', accuracy_score(y_test,rfcpred))\n",
    "sns.heatmap(confusion_matrix(y_test,rfcpred),annot=True, fmt='g',cmap='Blues')"
   ]
  },
  {
   "cell_type": "markdown",
   "id": "28e24938",
   "metadata": {},
   "source": [
    "# Formulas -\n",
    "Precision = True Positives (TP) / (True Positives (TP) + False Positives (FP))\n",
    "\n",
    "Accuracy = (True Positives (TP) + True Negatives (TN)) / (TP + FP + TN + FN)\n",
    "\n",
    "Recall = True Positives (TP) / (True Positives (TP) + False Negatives (FN))\n",
    "\n",
    "F1-score = 2 * (Precision * Recall) / (Precision + Recall)\n"
   ]
  },
  {
   "cell_type": "markdown",
   "id": "cd9694f0",
   "metadata": {},
   "source": [
    "# KNN Classifier\n",
    "K-Nearest Neighbor is a non-parametric, supervised learning classifier, which uses proximity to make classifications or predictions about the grouping of an individual data point."
   ]
  },
  {
   "cell_type": "code",
   "execution_count": 38,
   "id": "a1bd5a0f",
   "metadata": {},
   "outputs": [],
   "source": [
    "from sklearn.neighbors import KNeighborsClassifier"
   ]
  },
  {
   "cell_type": "code",
   "execution_count": 39,
   "id": "d1248706",
   "metadata": {},
   "outputs": [],
   "source": [
    "knn = KNeighborsClassifier(n_neighbors=7)\n",
    "knn.fit(X_train,y_train)\n",
    "knnpred = knn.predict(X_test)"
   ]
  },
  {
   "cell_type": "code",
   "execution_count": 40,
   "id": "071e187c",
   "metadata": {},
   "outputs": [
    {
     "name": "stdout",
     "output_type": "stream",
     "text": [
      "KNN\n",
      "\n",
      "              precision    recall  f1-score   support\n",
      "\n",
      "           0       0.77      0.84      0.80     22458\n",
      "           1       0.67      0.57      0.62     13209\n",
      "\n",
      "    accuracy                           0.74     35667\n",
      "   macro avg       0.72      0.71      0.71     35667\n",
      "weighted avg       0.73      0.74      0.73     35667\n",
      "\n",
      "\n",
      "confusion matrix\n",
      "[[18784  3674]\n",
      " [ 5617  7592]]\n",
      "accuracy of KNN Classifier model =  0.7395071074102111\n"
     ]
    },
    {
     "data": {
      "text/plain": [
       "<AxesSubplot:>"
      ]
     },
     "execution_count": 40,
     "metadata": {},
     "output_type": "execute_result"
    },
    {
     "data": {
      "image/png": "[encoded data removed]",
      "text/plain": [
       "<Figure size 432x288 with 2 Axes>"
      ]
     },
     "metadata": {
      "needs_background": "light"
     },
     "output_type": "display_data"
    }
   ],
   "source": [
    "print('KNN' + '\\n')\n",
    "print(classification_report(y_test,knnpred))\n",
    "print('\\n' + 'confusion matrix')\n",
    "print(confusion_matrix(y_test,knnpred))\n",
    "print('accuracy of KNN Classifier model = ', accuracy_score(y_test,knnpred))\n",
    "sns.heatmap(confusion_matrix(y_test,knnpred),annot=True, fmt='g',cmap='Blues')"
   ]
  },
  {
   "cell_type": "code",
   "execution_count": null,
   "id": "f8102401",
   "metadata": {},
   "outputs": [],
   "source": []
  },
  {
   "cell_type": "markdown",
   "id": "68a3ddbb",
   "metadata": {},
   "source": [
    "# Logistic Regression\n",
    "\n",
    "Logistic regression is a data analysis technique that uses mathematics to find the relationships between two data factors"
   ]
  },
  {
   "cell_type": "code",
   "execution_count": 41,
   "id": "1484031c",
   "metadata": {},
   "outputs": [],
   "source": [
    "from sklearn.linear_model import LogisticRegression\n",
    "from sklearn.metrics import classification_report\n",
    "from sklearn.metrics import confusion_matrix\n",
    "\n",
    "lr = LogisticRegression(solver='liblinear')"
   ]
  },
  {
   "cell_type": "code",
   "execution_count": 42,
   "id": "95ce83cd",
   "metadata": {},
   "outputs": [
    {
     "name": "stdout",
     "output_type": "stream",
     "text": [
      "              precision    recall  f1-score   support\n",
      "\n",
      "           0       0.72      0.89      0.80     22458\n",
      "           1       0.68      0.42      0.52     13209\n",
      "\n",
      "    accuracy                           0.71     35667\n",
      "   macro avg       0.70      0.65      0.66     35667\n",
      "weighted avg       0.71      0.71      0.69     35667\n",
      "\n",
      "\n",
      "confusion matrix:\n",
      "\n",
      "accuracy of Logistic Regression model =  0.7137690301959795\n"
     ]
    },
    {
     "data": {
      "image/png": "[encoded data removed]",
      "text/plain": [
       "<Figure size 432x288 with 2 Axes>"
      ]
     },
     "metadata": {
      "needs_background": "light"
     },
     "output_type": "display_data"
    }
   ],
   "source": [
    "lr.fit(X_train,y_train)\n",
    "lrpredict = lr.predict(X_test)\n",
    "print(classification_report(y_test,lrpredict))\n",
    "print('\\n' + 'confusion matrix:' + '\\n')\n",
    "sns.heatmap(confusion_matrix(y_test,lrpredict),annot=True, fmt='g',cmap='Blues')\n",
    "print('accuracy of Logistic Regression model = ', accuracy_score(y_test,lrpredict))"
   ]
  },
  {
   "cell_type": "markdown",
   "id": "9871ceae",
   "metadata": {},
   "source": [
    "To Find Accuracy of which model is high -"
   ]
  },
  {
   "cell_type": "code",
   "execution_count": 43,
   "id": "94c4a910",
   "metadata": {},
   "outputs": [
    {
     "name": "stdout",
     "output_type": "stream",
     "text": [
      "accuracy of Logistic Regression model =  0.7137690301959795\n",
      "accuracy of KNN Classifier model =  0.7395071074102111\n",
      "accuracy of random forest model =  0.7598620573639498\n"
     ]
    }
   ],
   "source": [
    "print('accuracy of Logistic Regression model = ', accuracy_score(y_test,lrpredict))\n",
    "print('accuracy of KNN Classifier model = ', accuracy_score(y_test,knnpred))\n",
    "print('accuracy of random forest model = ', accuracy_score(y_test,rfcpred))"
   ]
  },
  {
   "cell_type": "markdown",
   "id": "be459548",
   "metadata": {},
   "source": [
    "# From above, we can see accuracy of Random Forest Classification model is high, So we can use random forest for  future prediction.\n",
    "."
   ]
  },
  {
   "cell_type": "code",
   "execution_count": null,
   "id": "535d0475",
   "metadata": {},
   "outputs": [],
   "source": []
  },
  {
   "cell_type": "markdown",
   "id": "5f0e5c46",
   "metadata": {},
   "source": [
    "# Conclusion : \n",
    "\n",
    "# From above , we can see Cancellation rates rise as the price does. in order to to prevent cancellations of reservations,hotel should work on their pricing strategies and should try to lower the rates for specific hotels based on locations\n",
    "\n",
    "# As the ratio of cancellation of the city hotels is comparitively higher than resort hotels"
   ]
  },
  {
   "cell_type": "markdown",
   "id": "5a81d30d",
   "metadata": {},
   "source": [
    "# Thank You !!"
   ]
  },
  {
   "cell_type": "code",
   "execution_count": null,
   "id": "95c76da5",
   "metadata": {},
   "outputs": [],
   "source": []
  }
 ],
 "metadata": {
  "kernelspec": {
   "display_name": "Python 3 (ipykernel)",
   "language": "python",
   "name": "python3"
  },
  "language_info": {
   "codemirror_mode": {
    "name": "ipython",
    "version": 3
   },
   "file_extension": ".py",
   "mimetype": "text/x-python",
   "name": "python",
   "nbconvert_exporter": "python",
   "pygments_lexer": "ipython3",
   "version": "3.9.12"
  }
 },
 "nbformat": 4,
 "nbformat_minor": 5
}
